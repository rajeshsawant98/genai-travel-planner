{
 "cells": [
  {
   "cell_type": "markdown",
   "id": "c48d5a08",
   "metadata": {
    "papermill": {
     "duration": 0.001444,
     "end_time": "2025-04-14T22:15:30.108675",
     "exception": false,
     "start_time": "2025-04-14T22:15:30.107231",
     "status": "completed"
    },
    "tags": []
   },
   "source": [
    "# 🧠 GenAI Travel Planner: Personalized Itinerary Generator\n",
    "\n",
    "Welcome to the **GenAI Travel Planner**, a project developed as part of the [Gen AI Intensive Course Capstone 2025Q1](https://www.kaggle.com/competitions/gen-ai-intensive-course-capstone-2025q1).\n",
    "\n",
    "In this notebook, we build a smart itinerary planner that:\n",
    "- Generates **personalized travel plans** based on user preferences\n",
    "- Uses real-world datasets of **museums**, **restaurants**, **natural attractions**, and **transit stations**\n",
    "- Leverages **Generative AI capabilities** to produce structured and creative multi-day itineraries\n",
    "\n",
    "### 🚀 GenAI Capabilities Demonstrated:\n",
    "- **Structured Output / JSON Mode** — for day-by-day travel itineraries\n",
    "- **Few-shot Prompting** — to guide the itinerary generation\n",
    "- **Retrieval Augmented Generation (RAG)** — we extract real-world POIs from datasets and use them as context\n",
    "\n",
    "Let’s get planning!"
   ]
  },
  {
   "cell_type": "markdown",
   "id": "2504395c",
   "metadata": {
    "papermill": {
     "duration": 0.000773,
     "end_time": "2025-04-14T22:15:30.110630",
     "exception": false,
     "start_time": "2025-04-14T22:15:30.109857",
     "status": "completed"
    },
    "tags": []
   },
   "source": [
    "## 📁 Step 1: Load and Preview Datasets\n",
    "\n",
    "We begin by loading four public datasets related to places of interest:\n",
    "- **Museums Dataset**: Cultural institutions from the IMLS dataset\n",
    "- **Yelp Restaurants Dataset**: Dining places with location and category\n",
    "- **Valley Metro Stations**: Public transport stations in the Phoenix area\n",
    "- **GNIS Natural Features**: Parks, lakes, trails, etc. from GNIS\n",
    "\n",
    "These will be used as input for our retrieval and GenAI itinerary generation."
   ]
  }
 ],
 "metadata": {
  "kaggle": {
   "accelerator": "none",
   "dataSources": [
    {
     "datasetId": 7052336,
     "sourceId": 11280220,
     "sourceType": "datasetVersion"
    }
   ],
   "dockerImageVersionId": 30918,
   "isGpuEnabled": false,
   "isInternetEnabled": true,
   "language": "python",
   "sourceType": "notebook"
  },
  "kernelspec": {
   "display_name": "Python 3",
   "language": "python",
   "name": "python3"
  },
  "language_info": {
   "codemirror_mode": {
    "name": "ipython",
    "version": 3
   },
   "file_extension": ".py",
   "mimetype": "text/x-python",
   "name": "python",
   "nbconvert_exporter": "python",
   "pygments_lexer": "ipython3",
   "version": "3.10.12"
  },
  "papermill": {
   "default_parameters": {},
   "duration": 3.094202,
   "end_time": "2025-04-14T22:15:30.530067",
   "environment_variables": {},
   "exception": null,
   "input_path": "__notebook__.ipynb",
   "output_path": "__notebook__.ipynb",
   "parameters": {},
   "start_time": "2025-04-14T22:15:27.435865",
   "version": "2.6.0"
  }
 },
 "nbformat": 4,
 "nbformat_minor": 5
}
